{
 "cells": [
  {
   "attachments": {},
   "cell_type": "markdown",
   "metadata": {},
   "source": [
    "# Setting Up and Exploring a Spark DataFrame in PySpark (on Mac M1)\n",
    "\n",
    "This code snippet demonstrates how to download a dataset, create a Spark DataFrame, and explore its contents using PySpark. We'll utilize pandas for initial data loading and then convert it to a Spark DataFrame for distributed processing.\n",
    "\n",
    "Important Note:\n",
    "- Java and Environment Variables: Since we're working on Apple Silicon, it's crucial to set the JAVA_HOME environment variable to point to a compatible OpenJDK installation. This ensures Spark can interact with the Java runtime environment effectively. If not done already, you can use 'brew install openjdk' to install java.\n",
    "- Virtual Environments: For managing dependencies and avoiding conflicts, it's highly recommended to use a virtual environment when working with PySpark projects. This helps isolate project-specific packages and keeps your development environment clean."
   ]
  },
  {
   "cell_type": "code",
   "execution_count": 12,
   "metadata": {},
   "outputs": [],
   "source": [
    "# Set the `JAVA_HOME` environment variable to point to the OpenJDK installation directory\n",
    "# This is necessary for Spark to interact with the Java runtime on macOS with Apple Silicon\n",
    "# Replace '/opt/homebrew/opt/openjdk' with your actual installation path if different\n",
    "import os\n",
    "os.environ['JAVA_HOME'] = '/opt/homebrew/opt/openjdk'\n",
    "\n",
    "import pandas as pd\n",
    "\n",
    "# Create a SparkSession named 'SparkBasics'\n",
    "# This is the entry point for working with Spark SQL\n",
    "from pyspark.sql import SparkSession\n",
    "spark = SparkSession.builder.appName('SparkBasics').getOrCreate()"
   ]
  },
  {
   "cell_type": "code",
   "execution_count": 13,
   "metadata": {},
   "outputs": [],
   "source": [
    "# Download and Load the HR Employee Dataset\n",
    "\n",
    "# Use pandas to read the CSV data from a URL\n",
    "df_pandas = pd.read_csv('https://github.com/YBIFoundation/BigData/raw/main/HR50k.csv')\n",
    "\n",
    "# Convert the pandas DataFrame to a Spark DataFrame\n",
    "df_spark = spark.createDataFrame(df_pandas)"
   ]
  },
  {
   "attachments": {},
   "cell_type": "markdown",
   "metadata": {},
   "source": [
    "## Explore spark dataframe\n",
    "\n",
    "The show() method is a built-in function of Spark DataFrames. By default, it displays the first 20 rows of the DataFrame in a tabular format. This helps you get a quick glimpse into the structure and contents of the data."
   ]
  },
  {
   "cell_type": "code",
   "execution_count": 7,
   "metadata": {},
   "outputs": [
    {
     "name": "stderr",
     "output_type": "stream",
     "text": [
      "24/06/09 13:32:45 WARN SparkStringUtils: Truncated the string representation of a plan since it was too large. This behavior can be adjusted by setting 'spark.sql.debug.maxToStringFields'.\n",
      "                                                                                \r"
     ]
    },
    {
     "name": "stdout",
     "output_type": "stream",
     "text": [
      "+---+---------+-----------------+---------+--------------------+----------------+---------+----------------+-------------+--------------+-----------------------+------+----------+--------------+--------+--------------------+---------------+-------------+-------------+-----------+------------------+------+--------+-----------------+-----------------+------------------------+-------------+----------------+-----------------+---------------------+---------------+--------------+------------------+-----------------------+--------------------+\n",
      "|Age|Attrition|   BusinessTravel|DailyRate|          Department|DistanceFromHome|Education|  EducationField|EmployeeCount|EmployeeNumber|EnvironmentSatisfaction|Gender|HourlyRate|JobInvolvement|JobLevel|             JobRole|JobSatisfaction|MaritalStatus|MonthlyIncome|MonthlyRate|NumCompaniesWorked|Over18|OverTime|PercentSalaryHike|PerformanceRating|RelationshipSatisfaction|StandardHours|StockOptionLevel|TotalWorkingYears|TrainingTimesLastYear|WorkLifeBalance|YearsAtCompany|YearsInCurrentRole|YearsSinceLastPromotion|YearsWithCurrManager|\n",
      "+---+---------+-----------------+---------+--------------------+----------------+---------+----------------+-------------+--------------+-----------------------+------+----------+--------------+--------+--------------------+---------------+-------------+-------------+-----------+------------------+------+--------+-----------------+-----------------+------------------------+-------------+----------------+-----------------+---------------------+---------------+--------------+------------------+-----------------------+--------------------+\n",
      "| 31|       No|       Non-Travel|      158|            Software|               7|        3|         Medical|            1|             1|                      3|  Male|        42|             2|       3|           Developer|              1|      Married|        42682|     298774|                 2|     Y|      No|               20|                4|                       1|           80|               2|               15|                    1|              2|            12|                 4|                     10|                  11|\n",
      "| 38|       No|    Travel_Rarely|      985|     Human Resources|              33|        5|   Life Sciences|            1|             2|                      1|Female|        66|             2|       4|Healthcare Repres...|              3|       Single|        45252|      45252|                 8|     Y|      No|                2|                1|                       3|           80|               4|                5|                    4|              3|             1|                 1|                      1|                   1|\n",
      "| 59|      Yes|       Non-Travel|     1273|               Sales|               5|        2|Technical Degree|            1|             3|                      4|Female|        96|             1|       3|Manufacturing Dir...|              2|      Married|        46149|     507639|                 7|     Y|     Yes|               39|                3|                       2|           80|               2|                9|                    5|              1|             6|                 6|                      4|                   3|\n",
      "| 52|      Yes|    Travel_Rarely|      480|             Support|               2|        5|       Marketing|            1|             4|                      4|Female|        71|             2|       4|     Human Resources|              1|      Married|        27150|      27150|                 4|     Y|      No|               16|                3|                       2|           80|               2|               22|                    4|              4|            10|                 9|                      5|                   6|\n",
      "| 32|       No|       Non-Travel|      543|     Human Resources|               7|        5| Human Resources|            1|             5|                      2|  Male|       122|             3|       3|             Manager|              2|     Divorced|        15894|      47682|                 6|     Y|     Yes|               42|                3|                       4|           80|               2|               30|                    3|              4|            29|                27|                      9|                   7|\n",
      "| 19|      Yes|       Non-Travel|      779|            Hardware|              43|        1|         Medical|            1|             6|                      2|Female|       195|             4|       3|   Research Director|              3|      Married|        41552|    1246560|                 3|     Y|     Yes|               15|                4|                       3|           80|               1|               33|                    4|              2|            16|                 4|                     14|                   3|\n",
      "| 42|      Yes|       Non-Travel|      934|             Support|              26|        4| Human Resources|            1|             7|                      2|Female|        80|             3|       5|     Sales Executive|              4|     Divorced|         5303|     148484|                 3|     Y|      No|               45|                4|                       1|           80|               1|                4|                    3|              4|             2|                 1|                      1|                   2|\n",
      "| 30|       No|    Travel_Rarely|      380|             Support|              19|        3|       Marketing|            1|             8|                      4|  Male|       165|             1|       4|     Human Resources|              4|       Single|        28555|     571100|                 2|     Y|     Yes|               35|                3|                       2|           80|               1|                2|                    2|              2|             2|                 2|                      2|                   2|\n",
      "| 41|       No|Travel_Frequently|     1464|            Software|              16|        1|   Life Sciences|            1|             9|                      3|  Male|       134|             1|       2|             Manager|              4|     Divorced|         3241|      87507|                 7|     Y|      No|                1|                1|                       3|           80|               2|                8|                    1|              2|             2|                 1|                      2|                   2|\n",
      "| 45|       No|Travel_Frequently|     1020|     Human Resources|              17|        5|   Life Sciences|            1|            10|                      4|Female|       137|             2|       4|             Manager|              2|      Married|         4323|     116721|                 4|     Y|     Yes|               32|                1|                       3|           80|               4|                6|                    4|              4|             5|                 3|                      4|                   1|\n",
      "| 36|       No|    Travel_Rarely|      987|               Sales|              33|        4|           Other|            1|            11|                      3|  Male|       159|             3|       1|     Human Resources|              3|      Married|        10587|      95283|                 0|     Y|     Yes|               47|                4|                       2|           80|               1|               38|                    3|              4|            24|                19|                      8|                   6|\n",
      "| 23|       No|Travel_Frequently|      135|     Human Resources|              20|        4|   Life Sciences|            1|            12|                      2|Female|        51|             2|       2|Manufacturing Dir...|              2|     Divorced|         7446|     141474|                 8|     Y|     Yes|               44|                1|                       2|           80|               4|               16|                    5|              3|             8|                 6|                      7|                   6|\n",
      "| 24|      Yes|       Non-Travel|     1086|             Support|              15|        1|       Marketing|            1|            13|                      4|Female|       189|             3|       1|Manufacturing Dir...|              4|      Married|        34153|     648907|                 7|     Y|      No|               17|                1|                       3|           80|               1|               30|                    2|              2|            15|                 3|                      8|                   4|\n",
      "| 39|      Yes|       Non-Travel|      673|Research & Develo...|              16|        2| Human Resources|            1|            14|                      2|Female|        69|             4|       2|     Sales Executive|              2|      Married|        47844|     382752|                 1|     Y|      No|               47|                1|                       4|           80|               1|               14|                    4|              2|            13|                 9|                     11|                   5|\n",
      "| 42|      Yes|    Travel_Rarely|      145|     Human Resources|              31|        3|   Life Sciences|            1|            15|                      3|  Male|       127|             3|       1|           Developer|              4|      Married|        21432|      21432|                 4|     Y|     Yes|               48|                2|                       1|           80|               4|                2|                    6|              2|             1|                 1|                      1|                   1|\n",
      "| 44|      Yes|Travel_Frequently|      717|            Software|              10|        2| Human Resources|            1|            16|                      3|Female|       151|             1|       5|Sales Representative|              4|     Divorced|        50393|    1058253|                 6|     Y|     Yes|               42|                2|                       1|           80|               2|               27|                    3|              1|            27|                13|                     18|                  18|\n",
      "| 50|      Yes|Travel_Frequently|      460|Research & Develo...|              10|        4| Human Resources|            1|            17|                      4|  Male|       181|             2|       5|             Manager|              3|     Divorced|        22090|      66270|                 7|     Y|      No|               19|                2|                       1|           80|               2|               14|                    3|              3|             5|                 3|                      4|                   5|\n",
      "| 42|       No|    Travel_Rarely|     1422|            Software|              26|        4|   Life Sciences|            1|            18|                      4|Female|        92|             4|       5|           Developer|              3|       Single|        47968|      47968|                 3|     Y|     Yes|               41|                4|                       2|           80|               1|                5|                    4|              3|             4|                 1|                      2|                   3|\n",
      "| 49|       No|Travel_Frequently|      129|Research & Develo...|              41|        1|Technical Degree|            1|            19|                      3|Female|        81|             2|       1|             Manager|              1|     Divorced|        24665|      98660|                 0|     Y|      No|               17|                2|                       3|           80|               4|                7|                    1|              3|             6|                 4|                      3|                   4|\n",
      "| 58|      Yes|    Travel_Rarely|      637|             Support|               5|        4|Technical Degree|            1|            20|                      2|Female|        66|             3|       5|             Manager|              2|      Married|        41084|     903848|                 7|     Y|      No|               46|                1|                       3|           80|               3|               39|                    6|              4|            17|                 3|                     13|                   4|\n",
      "+---+---------+-----------------+---------+--------------------+----------------+---------+----------------+-------------+--------------+-----------------------+------+----------+--------------+--------+--------------------+---------------+-------------+-------------+-----------+------------------+------+--------+-----------------+-----------------+------------------------+-------------+----------------+-----------------+---------------------+---------------+--------------+------------------+-----------------------+--------------------+\n",
      "only showing top 20 rows\n",
      "\n"
     ]
    }
   ],
   "source": [
    "df.show()"
   ]
  },
  {
   "attachments": {},
   "cell_type": "markdown",
   "metadata": {},
   "source": [
    "The printSchema() method is a built-in function of Spark DataFrames. It displays the schema information, which includes:\n",
    "- Column names\n",
    "- Data types of each column (e.g., integer, string, etc.)"
   ]
  },
  {
   "cell_type": "code",
   "execution_count": 14,
   "metadata": {},
   "outputs": [
    {
     "name": "stdout",
     "output_type": "stream",
     "text": [
      "root\n",
      " |-- Age: long (nullable = true)\n",
      " |-- Attrition: string (nullable = true)\n",
      " |-- BusinessTravel: string (nullable = true)\n",
      " |-- DailyRate: long (nullable = true)\n",
      " |-- Department: string (nullable = true)\n",
      " |-- DistanceFromHome: long (nullable = true)\n",
      " |-- Education: long (nullable = true)\n",
      " |-- EducationField: string (nullable = true)\n",
      " |-- EmployeeCount: long (nullable = true)\n",
      " |-- EmployeeNumber: long (nullable = true)\n",
      " |-- EnvironmentSatisfaction: long (nullable = true)\n",
      " |-- Gender: string (nullable = true)\n",
      " |-- HourlyRate: long (nullable = true)\n",
      " |-- JobInvolvement: long (nullable = true)\n",
      " |-- JobLevel: long (nullable = true)\n",
      " |-- JobRole: string (nullable = true)\n",
      " |-- JobSatisfaction: long (nullable = true)\n",
      " |-- MaritalStatus: string (nullable = true)\n",
      " |-- MonthlyIncome: long (nullable = true)\n",
      " |-- MonthlyRate: long (nullable = true)\n",
      " |-- NumCompaniesWorked: long (nullable = true)\n",
      " |-- Over18: string (nullable = true)\n",
      " |-- OverTime: string (nullable = true)\n",
      " |-- PercentSalaryHike: long (nullable = true)\n",
      " |-- PerformanceRating: long (nullable = true)\n",
      " |-- RelationshipSatisfaction: long (nullable = true)\n",
      " |-- StandardHours: long (nullable = true)\n",
      " |-- StockOptionLevel: long (nullable = true)\n",
      " |-- TotalWorkingYears: long (nullable = true)\n",
      " |-- TrainingTimesLastYear: long (nullable = true)\n",
      " |-- WorkLifeBalance: long (nullable = true)\n",
      " |-- YearsAtCompany: long (nullable = true)\n",
      " |-- YearsInCurrentRole: long (nullable = true)\n",
      " |-- YearsSinceLastPromotion: long (nullable = true)\n",
      " |-- YearsWithCurrManager: long (nullable = true)\n",
      "\n"
     ]
    }
   ],
   "source": [
    "df_spark.printSchema()"
   ]
  },
  {
   "attachments": {},
   "cell_type": "markdown",
   "metadata": {},
   "source": [
    "The describe() method is a built-in function of Spark DataFrames. It calculates summary statistics for numerical columns in the DataFrame. These statistics include:\n",
    "\n",
    "- Count: The number of non-null values in the column\n",
    "- Mean: The average value\n",
    "- Stddev: The standard deviation\n",
    "- Min: The minimum value\n",
    "- Max: The maximum value\n",
    "\n",
    "The show() method displays the calculated summary statistics in a tabular format."
   ]
  },
  {
   "cell_type": "code",
   "execution_count": 15,
   "metadata": {},
   "outputs": [
    {
     "name": "stderr",
     "output_type": "stream",
     "text": [
      "[Stage 6:=====>                                                    (1 + 9) / 10]\r"
     ]
    },
    {
     "name": "stdout",
     "output_type": "stream",
     "text": [
      "+-------+------------------+---------+--------------+-----------------+----------+------------------+------------------+----------------+-------------+-----------------+-----------------------+------+------------------+------------------+------------------+--------------------+------------------+-------------+------------------+-----------------+------------------+------+--------+------------------+-----------------+------------------------+-------------+-----------------+------------------+---------------------+------------------+----------------+------------------+-----------------------+--------------------+\n",
      "|summary|               Age|Attrition|BusinessTravel|        DailyRate|Department|  DistanceFromHome|         Education|  EducationField|EmployeeCount|   EmployeeNumber|EnvironmentSatisfaction|Gender|        HourlyRate|    JobInvolvement|          JobLevel|             JobRole|   JobSatisfaction|MaritalStatus|     MonthlyIncome|      MonthlyRate|NumCompaniesWorked|Over18|OverTime| PercentSalaryHike|PerformanceRating|RelationshipSatisfaction|StandardHours| StockOptionLevel| TotalWorkingYears|TrainingTimesLastYear|   WorkLifeBalance|  YearsAtCompany|YearsInCurrentRole|YearsSinceLastPromotion|YearsWithCurrManager|\n",
      "+-------+------------------+---------+--------------+-----------------+----------+------------------+------------------+----------------+-------------+-----------------+-----------------------+------+------------------+------------------+------------------+--------------------+------------------+-------------+------------------+-----------------+------------------+------+--------+------------------+-----------------+------------------------+-------------+-----------------+------------------+---------------------+------------------+----------------+------------------+-----------------------+--------------------+\n",
      "|  count|             50000|    50000|         50000|            50000|     50000|             50000|             50000|           50000|        50000|            50000|                  50000| 50000|             50000|             50000|             50000|               50000|             50000|        50000|             50000|            50000|             50000| 50000|   50000|             50000|            50000|                   50000|        50000|            50000|             50000|                50000|             50000|           50000|             50000|                  50000|               50000|\n",
      "|   mean|          38.97148|     NULL|          NULL|        798.67756|      NULL|          25.53978|            3.0046|            NULL|          1.0|          25000.5|                2.49836|  NULL|         115.43294|           2.50262|           2.99464|                NULL|           2.48738|         NULL|       26015.78126|     404043.57942|             3.999|  NULL|    NULL|          24.61832|          2.49596|                 2.50222|         80.0|          2.50378|          20.49686|              3.49398|           2.49872|         10.7711|            5.9073|                5.87182|             5.88904|\n",
      "| stddev|12.420833794550306|     NULL|          NULL|405.0802167868569|      NULL|14.339955726507837|1.4142485078573843|            NULL|          0.0|14433.90106658626|     1.1196706585633438|  NULL|49.424866608875995|1.1205437287160904|1.4159983656160868|                NULL|1.1163089440263259|         NULL|14410.977499609897|340190.8111281803| 2.582373399229371|  NULL|    NULL|14.405000189455372|1.118091535149792|       1.117917736866774|          0.0|1.118932862961418|11.575819199184243|   1.7081516663464937|1.1141199158365929|8.93422974851352| 6.034377762810318|     5.9990557307790695|   6.009613147899268|\n",
      "|    min|                18|       No|    Non-Travel|              100|  Hardware|                 1|                 1| Human Resources|            1|                1|                      1|Female|                30|                 1|                 1|           Developer|                 1|     Divorced|              1001|             1007|                 0|     Y|      No|                 0|                1|                       1|           80|                1|                 1|                    1|                 1|               1|                 1|                      1|                   1|\n",
      "|    max|                60|      Yes| Travel_Rarely|             1500|   Support|                50|                 5|Technical Degree|            1|            50000|                      4|  Male|               200|                 4|                 5|Sales Representative|                 4|       Single|             50999|          1528290|                 8|     Y|     Yes|                49|                4|                       4|           80|                4|                40|                    6|                 4|              40|                40|                     40|                  40|\n",
      "+-------+------------------+---------+--------------+-----------------+----------+------------------+------------------+----------------+-------------+-----------------+-----------------------+------+------------------+------------------+------------------+--------------------+------------------+-------------+------------------+-----------------+------------------+------+--------+------------------+-----------------+------------------------+-------------+-----------------+------------------+---------------------+------------------+----------------+------------------+-----------------------+--------------------+\n",
      "\n"
     ]
    },
    {
     "name": "stderr",
     "output_type": "stream",
     "text": [
      "                                                                                \r"
     ]
    }
   ],
   "source": [
    "df_spark.describe().show()"
   ]
  },
  {
   "attachments": {},
   "cell_type": "markdown",
   "metadata": {},
   "source": [
    "Setting spark configuration\n",
    "- `spark.conf.set`: This method allows you to set configuration properties for Spark.\n",
    "- `spark.sql.repl.eagerEval.enabled`: This specific property controls the evaluation behavior of Spark DataFrames in certain environments like Jupyter notebooks.\n",
    "- `True`: Setting this to `True` enables eager evaluation, meaning the Spark DataFrame results are displayed immediately when you call an action like `show()`."
   ]
  },
  {
   "cell_type": "code",
   "execution_count": 17,
   "metadata": {},
   "outputs": [
    {
     "data": {
      "text/html": [
       "<table border='1'>\n",
       "<tr><th>Age</th><th>Attrition</th><th>BusinessTravel</th><th>DailyRate</th><th>Department</th><th>DistanceFromHome</th><th>Education</th><th>EducationField</th><th>EmployeeCount</th><th>EmployeeNumber</th><th>EnvironmentSatisfaction</th><th>Gender</th><th>HourlyRate</th><th>JobInvolvement</th><th>JobLevel</th><th>JobRole</th><th>JobSatisfaction</th><th>MaritalStatus</th><th>MonthlyIncome</th><th>MonthlyRate</th><th>NumCompaniesWorked</th><th>Over18</th><th>OverTime</th><th>PercentSalaryHike</th><th>PerformanceRating</th><th>RelationshipSatisfaction</th><th>StandardHours</th><th>StockOptionLevel</th><th>TotalWorkingYears</th><th>TrainingTimesLastYear</th><th>WorkLifeBalance</th><th>YearsAtCompany</th><th>YearsInCurrentRole</th><th>YearsSinceLastPromotion</th><th>YearsWithCurrManager</th></tr>\n",
       "<tr><td>31</td><td>No</td><td>Non-Travel</td><td>158</td><td>Software</td><td>7</td><td>3</td><td>Medical</td><td>1</td><td>1</td><td>3</td><td>Male</td><td>42</td><td>2</td><td>3</td><td>Developer</td><td>1</td><td>Married</td><td>42682</td><td>298774</td><td>2</td><td>Y</td><td>No</td><td>20</td><td>4</td><td>1</td><td>80</td><td>2</td><td>15</td><td>1</td><td>2</td><td>12</td><td>4</td><td>10</td><td>11</td></tr>\n",
       "<tr><td>38</td><td>No</td><td>Travel_Rarely</td><td>985</td><td>Human Resources</td><td>33</td><td>5</td><td>Life Sciences</td><td>1</td><td>2</td><td>1</td><td>Female</td><td>66</td><td>2</td><td>4</td><td>Healthcare Repres...</td><td>3</td><td>Single</td><td>45252</td><td>45252</td><td>8</td><td>Y</td><td>No</td><td>2</td><td>1</td><td>3</td><td>80</td><td>4</td><td>5</td><td>4</td><td>3</td><td>1</td><td>1</td><td>1</td><td>1</td></tr>\n",
       "<tr><td>59</td><td>Yes</td><td>Non-Travel</td><td>1273</td><td>Sales</td><td>5</td><td>2</td><td>Technical Degree</td><td>1</td><td>3</td><td>4</td><td>Female</td><td>96</td><td>1</td><td>3</td><td>Manufacturing Dir...</td><td>2</td><td>Married</td><td>46149</td><td>507639</td><td>7</td><td>Y</td><td>Yes</td><td>39</td><td>3</td><td>2</td><td>80</td><td>2</td><td>9</td><td>5</td><td>1</td><td>6</td><td>6</td><td>4</td><td>3</td></tr>\n",
       "<tr><td>52</td><td>Yes</td><td>Travel_Rarely</td><td>480</td><td>Support</td><td>2</td><td>5</td><td>Marketing</td><td>1</td><td>4</td><td>4</td><td>Female</td><td>71</td><td>2</td><td>4</td><td>Human Resources</td><td>1</td><td>Married</td><td>27150</td><td>27150</td><td>4</td><td>Y</td><td>No</td><td>16</td><td>3</td><td>2</td><td>80</td><td>2</td><td>22</td><td>4</td><td>4</td><td>10</td><td>9</td><td>5</td><td>6</td></tr>\n",
       "<tr><td>32</td><td>No</td><td>Non-Travel</td><td>543</td><td>Human Resources</td><td>7</td><td>5</td><td>Human Resources</td><td>1</td><td>5</td><td>2</td><td>Male</td><td>122</td><td>3</td><td>3</td><td>Manager</td><td>2</td><td>Divorced</td><td>15894</td><td>47682</td><td>6</td><td>Y</td><td>Yes</td><td>42</td><td>3</td><td>4</td><td>80</td><td>2</td><td>30</td><td>3</td><td>4</td><td>29</td><td>27</td><td>9</td><td>7</td></tr>\n",
       "<tr><td>19</td><td>Yes</td><td>Non-Travel</td><td>779</td><td>Hardware</td><td>43</td><td>1</td><td>Medical</td><td>1</td><td>6</td><td>2</td><td>Female</td><td>195</td><td>4</td><td>3</td><td>Research Director</td><td>3</td><td>Married</td><td>41552</td><td>1246560</td><td>3</td><td>Y</td><td>Yes</td><td>15</td><td>4</td><td>3</td><td>80</td><td>1</td><td>33</td><td>4</td><td>2</td><td>16</td><td>4</td><td>14</td><td>3</td></tr>\n",
       "<tr><td>42</td><td>Yes</td><td>Non-Travel</td><td>934</td><td>Support</td><td>26</td><td>4</td><td>Human Resources</td><td>1</td><td>7</td><td>2</td><td>Female</td><td>80</td><td>3</td><td>5</td><td>Sales Executive</td><td>4</td><td>Divorced</td><td>5303</td><td>148484</td><td>3</td><td>Y</td><td>No</td><td>45</td><td>4</td><td>1</td><td>80</td><td>1</td><td>4</td><td>3</td><td>4</td><td>2</td><td>1</td><td>1</td><td>2</td></tr>\n",
       "<tr><td>30</td><td>No</td><td>Travel_Rarely</td><td>380</td><td>Support</td><td>19</td><td>3</td><td>Marketing</td><td>1</td><td>8</td><td>4</td><td>Male</td><td>165</td><td>1</td><td>4</td><td>Human Resources</td><td>4</td><td>Single</td><td>28555</td><td>571100</td><td>2</td><td>Y</td><td>Yes</td><td>35</td><td>3</td><td>2</td><td>80</td><td>1</td><td>2</td><td>2</td><td>2</td><td>2</td><td>2</td><td>2</td><td>2</td></tr>\n",
       "<tr><td>41</td><td>No</td><td>Travel_Frequently</td><td>1464</td><td>Software</td><td>16</td><td>1</td><td>Life Sciences</td><td>1</td><td>9</td><td>3</td><td>Male</td><td>134</td><td>1</td><td>2</td><td>Manager</td><td>4</td><td>Divorced</td><td>3241</td><td>87507</td><td>7</td><td>Y</td><td>No</td><td>1</td><td>1</td><td>3</td><td>80</td><td>2</td><td>8</td><td>1</td><td>2</td><td>2</td><td>1</td><td>2</td><td>2</td></tr>\n",
       "<tr><td>45</td><td>No</td><td>Travel_Frequently</td><td>1020</td><td>Human Resources</td><td>17</td><td>5</td><td>Life Sciences</td><td>1</td><td>10</td><td>4</td><td>Female</td><td>137</td><td>2</td><td>4</td><td>Manager</td><td>2</td><td>Married</td><td>4323</td><td>116721</td><td>4</td><td>Y</td><td>Yes</td><td>32</td><td>1</td><td>3</td><td>80</td><td>4</td><td>6</td><td>4</td><td>4</td><td>5</td><td>3</td><td>4</td><td>1</td></tr>\n",
       "<tr><td>36</td><td>No</td><td>Travel_Rarely</td><td>987</td><td>Sales</td><td>33</td><td>4</td><td>Other</td><td>1</td><td>11</td><td>3</td><td>Male</td><td>159</td><td>3</td><td>1</td><td>Human Resources</td><td>3</td><td>Married</td><td>10587</td><td>95283</td><td>0</td><td>Y</td><td>Yes</td><td>47</td><td>4</td><td>2</td><td>80</td><td>1</td><td>38</td><td>3</td><td>4</td><td>24</td><td>19</td><td>8</td><td>6</td></tr>\n",
       "<tr><td>23</td><td>No</td><td>Travel_Frequently</td><td>135</td><td>Human Resources</td><td>20</td><td>4</td><td>Life Sciences</td><td>1</td><td>12</td><td>2</td><td>Female</td><td>51</td><td>2</td><td>2</td><td>Manufacturing Dir...</td><td>2</td><td>Divorced</td><td>7446</td><td>141474</td><td>8</td><td>Y</td><td>Yes</td><td>44</td><td>1</td><td>2</td><td>80</td><td>4</td><td>16</td><td>5</td><td>3</td><td>8</td><td>6</td><td>7</td><td>6</td></tr>\n",
       "<tr><td>24</td><td>Yes</td><td>Non-Travel</td><td>1086</td><td>Support</td><td>15</td><td>1</td><td>Marketing</td><td>1</td><td>13</td><td>4</td><td>Female</td><td>189</td><td>3</td><td>1</td><td>Manufacturing Dir...</td><td>4</td><td>Married</td><td>34153</td><td>648907</td><td>7</td><td>Y</td><td>No</td><td>17</td><td>1</td><td>3</td><td>80</td><td>1</td><td>30</td><td>2</td><td>2</td><td>15</td><td>3</td><td>8</td><td>4</td></tr>\n",
       "<tr><td>39</td><td>Yes</td><td>Non-Travel</td><td>673</td><td>Research &amp; Develo...</td><td>16</td><td>2</td><td>Human Resources</td><td>1</td><td>14</td><td>2</td><td>Female</td><td>69</td><td>4</td><td>2</td><td>Sales Executive</td><td>2</td><td>Married</td><td>47844</td><td>382752</td><td>1</td><td>Y</td><td>No</td><td>47</td><td>1</td><td>4</td><td>80</td><td>1</td><td>14</td><td>4</td><td>2</td><td>13</td><td>9</td><td>11</td><td>5</td></tr>\n",
       "<tr><td>42</td><td>Yes</td><td>Travel_Rarely</td><td>145</td><td>Human Resources</td><td>31</td><td>3</td><td>Life Sciences</td><td>1</td><td>15</td><td>3</td><td>Male</td><td>127</td><td>3</td><td>1</td><td>Developer</td><td>4</td><td>Married</td><td>21432</td><td>21432</td><td>4</td><td>Y</td><td>Yes</td><td>48</td><td>2</td><td>1</td><td>80</td><td>4</td><td>2</td><td>6</td><td>2</td><td>1</td><td>1</td><td>1</td><td>1</td></tr>\n",
       "<tr><td>44</td><td>Yes</td><td>Travel_Frequently</td><td>717</td><td>Software</td><td>10</td><td>2</td><td>Human Resources</td><td>1</td><td>16</td><td>3</td><td>Female</td><td>151</td><td>1</td><td>5</td><td>Sales Representative</td><td>4</td><td>Divorced</td><td>50393</td><td>1058253</td><td>6</td><td>Y</td><td>Yes</td><td>42</td><td>2</td><td>1</td><td>80</td><td>2</td><td>27</td><td>3</td><td>1</td><td>27</td><td>13</td><td>18</td><td>18</td></tr>\n",
       "<tr><td>50</td><td>Yes</td><td>Travel_Frequently</td><td>460</td><td>Research &amp; Develo...</td><td>10</td><td>4</td><td>Human Resources</td><td>1</td><td>17</td><td>4</td><td>Male</td><td>181</td><td>2</td><td>5</td><td>Manager</td><td>3</td><td>Divorced</td><td>22090</td><td>66270</td><td>7</td><td>Y</td><td>No</td><td>19</td><td>2</td><td>1</td><td>80</td><td>2</td><td>14</td><td>3</td><td>3</td><td>5</td><td>3</td><td>4</td><td>5</td></tr>\n",
       "<tr><td>42</td><td>No</td><td>Travel_Rarely</td><td>1422</td><td>Software</td><td>26</td><td>4</td><td>Life Sciences</td><td>1</td><td>18</td><td>4</td><td>Female</td><td>92</td><td>4</td><td>5</td><td>Developer</td><td>3</td><td>Single</td><td>47968</td><td>47968</td><td>3</td><td>Y</td><td>Yes</td><td>41</td><td>4</td><td>2</td><td>80</td><td>1</td><td>5</td><td>4</td><td>3</td><td>4</td><td>1</td><td>2</td><td>3</td></tr>\n",
       "<tr><td>49</td><td>No</td><td>Travel_Frequently</td><td>129</td><td>Research &amp; Develo...</td><td>41</td><td>1</td><td>Technical Degree</td><td>1</td><td>19</td><td>3</td><td>Female</td><td>81</td><td>2</td><td>1</td><td>Manager</td><td>1</td><td>Divorced</td><td>24665</td><td>98660</td><td>0</td><td>Y</td><td>No</td><td>17</td><td>2</td><td>3</td><td>80</td><td>4</td><td>7</td><td>1</td><td>3</td><td>6</td><td>4</td><td>3</td><td>4</td></tr>\n",
       "<tr><td>58</td><td>Yes</td><td>Travel_Rarely</td><td>637</td><td>Support</td><td>5</td><td>4</td><td>Technical Degree</td><td>1</td><td>20</td><td>2</td><td>Female</td><td>66</td><td>3</td><td>5</td><td>Manager</td><td>2</td><td>Married</td><td>41084</td><td>903848</td><td>7</td><td>Y</td><td>No</td><td>46</td><td>1</td><td>3</td><td>80</td><td>3</td><td>39</td><td>6</td><td>4</td><td>17</td><td>3</td><td>13</td><td>4</td></tr>\n",
       "</table>\n",
       "only showing top 20 rows\n"
      ],
      "text/plain": [
       "+---+---------+-----------------+---------+--------------------+----------------+---------+----------------+-------------+--------------+-----------------------+------+----------+--------------+--------+--------------------+---------------+-------------+-------------+-----------+------------------+------+--------+-----------------+-----------------+------------------------+-------------+----------------+-----------------+---------------------+---------------+--------------+------------------+-----------------------+--------------------+\n",
       "|Age|Attrition|   BusinessTravel|DailyRate|          Department|DistanceFromHome|Education|  EducationField|EmployeeCount|EmployeeNumber|EnvironmentSatisfaction|Gender|HourlyRate|JobInvolvement|JobLevel|             JobRole|JobSatisfaction|MaritalStatus|MonthlyIncome|MonthlyRate|NumCompaniesWorked|Over18|OverTime|PercentSalaryHike|PerformanceRating|RelationshipSatisfaction|StandardHours|StockOptionLevel|TotalWorkingYears|TrainingTimesLastYear|WorkLifeBalance|YearsAtCompany|YearsInCurrentRole|YearsSinceLastPromotion|YearsWithCurrManager|\n",
       "+---+---------+-----------------+---------+--------------------+----------------+---------+----------------+-------------+--------------+-----------------------+------+----------+--------------+--------+--------------------+---------------+-------------+-------------+-----------+------------------+------+--------+-----------------+-----------------+------------------------+-------------+----------------+-----------------+---------------------+---------------+--------------+------------------+-----------------------+--------------------+\n",
       "| 31|       No|       Non-Travel|      158|            Software|               7|        3|         Medical|            1|             1|                      3|  Male|        42|             2|       3|           Developer|              1|      Married|        42682|     298774|                 2|     Y|      No|               20|                4|                       1|           80|               2|               15|                    1|              2|            12|                 4|                     10|                  11|\n",
       "| 38|       No|    Travel_Rarely|      985|     Human Resources|              33|        5|   Life Sciences|            1|             2|                      1|Female|        66|             2|       4|Healthcare Repres...|              3|       Single|        45252|      45252|                 8|     Y|      No|                2|                1|                       3|           80|               4|                5|                    4|              3|             1|                 1|                      1|                   1|\n",
       "| 59|      Yes|       Non-Travel|     1273|               Sales|               5|        2|Technical Degree|            1|             3|                      4|Female|        96|             1|       3|Manufacturing Dir...|              2|      Married|        46149|     507639|                 7|     Y|     Yes|               39|                3|                       2|           80|               2|                9|                    5|              1|             6|                 6|                      4|                   3|\n",
       "| 52|      Yes|    Travel_Rarely|      480|             Support|               2|        5|       Marketing|            1|             4|                      4|Female|        71|             2|       4|     Human Resources|              1|      Married|        27150|      27150|                 4|     Y|      No|               16|                3|                       2|           80|               2|               22|                    4|              4|            10|                 9|                      5|                   6|\n",
       "| 32|       No|       Non-Travel|      543|     Human Resources|               7|        5| Human Resources|            1|             5|                      2|  Male|       122|             3|       3|             Manager|              2|     Divorced|        15894|      47682|                 6|     Y|     Yes|               42|                3|                       4|           80|               2|               30|                    3|              4|            29|                27|                      9|                   7|\n",
       "| 19|      Yes|       Non-Travel|      779|            Hardware|              43|        1|         Medical|            1|             6|                      2|Female|       195|             4|       3|   Research Director|              3|      Married|        41552|    1246560|                 3|     Y|     Yes|               15|                4|                       3|           80|               1|               33|                    4|              2|            16|                 4|                     14|                   3|\n",
       "| 42|      Yes|       Non-Travel|      934|             Support|              26|        4| Human Resources|            1|             7|                      2|Female|        80|             3|       5|     Sales Executive|              4|     Divorced|         5303|     148484|                 3|     Y|      No|               45|                4|                       1|           80|               1|                4|                    3|              4|             2|                 1|                      1|                   2|\n",
       "| 30|       No|    Travel_Rarely|      380|             Support|              19|        3|       Marketing|            1|             8|                      4|  Male|       165|             1|       4|     Human Resources|              4|       Single|        28555|     571100|                 2|     Y|     Yes|               35|                3|                       2|           80|               1|                2|                    2|              2|             2|                 2|                      2|                   2|\n",
       "| 41|       No|Travel_Frequently|     1464|            Software|              16|        1|   Life Sciences|            1|             9|                      3|  Male|       134|             1|       2|             Manager|              4|     Divorced|         3241|      87507|                 7|     Y|      No|                1|                1|                       3|           80|               2|                8|                    1|              2|             2|                 1|                      2|                   2|\n",
       "| 45|       No|Travel_Frequently|     1020|     Human Resources|              17|        5|   Life Sciences|            1|            10|                      4|Female|       137|             2|       4|             Manager|              2|      Married|         4323|     116721|                 4|     Y|     Yes|               32|                1|                       3|           80|               4|                6|                    4|              4|             5|                 3|                      4|                   1|\n",
       "| 36|       No|    Travel_Rarely|      987|               Sales|              33|        4|           Other|            1|            11|                      3|  Male|       159|             3|       1|     Human Resources|              3|      Married|        10587|      95283|                 0|     Y|     Yes|               47|                4|                       2|           80|               1|               38|                    3|              4|            24|                19|                      8|                   6|\n",
       "| 23|       No|Travel_Frequently|      135|     Human Resources|              20|        4|   Life Sciences|            1|            12|                      2|Female|        51|             2|       2|Manufacturing Dir...|              2|     Divorced|         7446|     141474|                 8|     Y|     Yes|               44|                1|                       2|           80|               4|               16|                    5|              3|             8|                 6|                      7|                   6|\n",
       "| 24|      Yes|       Non-Travel|     1086|             Support|              15|        1|       Marketing|            1|            13|                      4|Female|       189|             3|       1|Manufacturing Dir...|              4|      Married|        34153|     648907|                 7|     Y|      No|               17|                1|                       3|           80|               1|               30|                    2|              2|            15|                 3|                      8|                   4|\n",
       "| 39|      Yes|       Non-Travel|      673|Research & Develo...|              16|        2| Human Resources|            1|            14|                      2|Female|        69|             4|       2|     Sales Executive|              2|      Married|        47844|     382752|                 1|     Y|      No|               47|                1|                       4|           80|               1|               14|                    4|              2|            13|                 9|                     11|                   5|\n",
       "| 42|      Yes|    Travel_Rarely|      145|     Human Resources|              31|        3|   Life Sciences|            1|            15|                      3|  Male|       127|             3|       1|           Developer|              4|      Married|        21432|      21432|                 4|     Y|     Yes|               48|                2|                       1|           80|               4|                2|                    6|              2|             1|                 1|                      1|                   1|\n",
       "| 44|      Yes|Travel_Frequently|      717|            Software|              10|        2| Human Resources|            1|            16|                      3|Female|       151|             1|       5|Sales Representative|              4|     Divorced|        50393|    1058253|                 6|     Y|     Yes|               42|                2|                       1|           80|               2|               27|                    3|              1|            27|                13|                     18|                  18|\n",
       "| 50|      Yes|Travel_Frequently|      460|Research & Develo...|              10|        4| Human Resources|            1|            17|                      4|  Male|       181|             2|       5|             Manager|              3|     Divorced|        22090|      66270|                 7|     Y|      No|               19|                2|                       1|           80|               2|               14|                    3|              3|             5|                 3|                      4|                   5|\n",
       "| 42|       No|    Travel_Rarely|     1422|            Software|              26|        4|   Life Sciences|            1|            18|                      4|Female|        92|             4|       5|           Developer|              3|       Single|        47968|      47968|                 3|     Y|     Yes|               41|                4|                       2|           80|               1|                5|                    4|              3|             4|                 1|                      2|                   3|\n",
       "| 49|       No|Travel_Frequently|      129|Research & Develo...|              41|        1|Technical Degree|            1|            19|                      3|Female|        81|             2|       1|             Manager|              1|     Divorced|        24665|      98660|                 0|     Y|      No|               17|                2|                       3|           80|               4|                7|                    1|              3|             6|                 4|                      3|                   4|\n",
       "| 58|      Yes|    Travel_Rarely|      637|             Support|               5|        4|Technical Degree|            1|            20|                      2|Female|        66|             3|       5|             Manager|              2|      Married|        41084|     903848|                 7|     Y|      No|               46|                1|                       3|           80|               3|               39|                    6|              4|            17|                 3|                     13|                   4|\n",
       "+---+---------+-----------------+---------+--------------------+----------------+---------+----------------+-------------+--------------+-----------------------+------+----------+--------------+--------+--------------------+---------------+-------------+-------------+-----------+------------------+------+--------+-----------------+-----------------+------------------------+-------------+----------------+-----------------+---------------------+---------------+--------------+------------------+-----------------------+--------------------+\n",
       "only showing top 20 rows"
      ]
     },
     "execution_count": 17,
     "metadata": {},
     "output_type": "execute_result"
    }
   ],
   "source": [
    "spark.conf.set('spark.sql.repl.eagerEval.enabled', True)\n",
    "df_spark"
   ]
  },
  {
   "cell_type": "code",
   "execution_count": null,
   "metadata": {},
   "outputs": [],
   "source": []
  }
 ],
 "metadata": {
  "kernelspec": {
   "display_name": "Python 3",
   "language": "python",
   "name": "python3"
  },
  "language_info": {
   "codemirror_mode": {
    "name": "ipython",
    "version": 3
   },
   "file_extension": ".py",
   "mimetype": "text/x-python",
   "name": "python",
   "nbconvert_exporter": "python",
   "pygments_lexer": "ipython3",
   "version": "3.11.0"
  },
  "orig_nbformat": 4
 },
 "nbformat": 4,
 "nbformat_minor": 2
}
